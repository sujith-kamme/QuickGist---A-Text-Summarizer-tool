{
 "cells": [
  {
   "cell_type": "code",
   "execution_count": 1,
   "metadata": {},
   "outputs": [],
   "source": [
    "import os\n",
    "os.chdir(\"../\")"
   ]
  },
  {
   "cell_type": "code",
   "execution_count": 2,
   "metadata": {},
   "outputs": [
    {
     "data": {
      "text/plain": [
       "'/Users/sujith/Desktop/Files/projects/QuickGist-A-Text-Summarizer-tool'"
      ]
     },
     "execution_count": 2,
     "metadata": {},
     "output_type": "execute_result"
    }
   ],
   "source": [
    "pwd"
   ]
  },
  {
   "cell_type": "code",
   "execution_count": 34,
   "metadata": {},
   "outputs": [],
   "source": [
    "from dataclasses import dataclass #used for creating entities\n",
    "from pathlib import Path\n",
    "\n",
    "@dataclass(frozen=True)\n",
    "class DataIngestionConfig:\n",
    "    root_dir: Path\n",
    "    source_URL: str\n",
    "    local_data_file: Path\n",
    "    unzip_dir: Path\n",
    "    s3_bucket: str\n",
    "    s3_dataset: str"
   ]
  },
  {
   "cell_type": "code",
   "execution_count": 35,
   "metadata": {},
   "outputs": [],
   "source": [
    "from src.code.constants import *\n",
    "from src.code.utils.common import read_yaml, create_directories\n"
   ]
  },
  {
   "cell_type": "code",
   "execution_count": 36,
   "metadata": {},
   "outputs": [],
   "source": [
    "class ConfigurationManager:\n",
    "    def __init__(\n",
    "        self,\n",
    "        config_filepath = CONFIG_FILE_PATH,\n",
    "        params_filepath = PARAMS_FILE_PATH,\n",
    "        keys_filepath = KEYS_FILE_PATH\n",
    "        ):\n",
    "\n",
    "        self.config = read_yaml(config_filepath)\n",
    "        self.params = read_yaml(params_filepath)\n",
    "        self.keys = read_yaml(keys_filepath)\n",
    "\n",
    "        create_directories([self.config.artifacts_root])\n",
    "\n",
    "    \n",
    "\n",
    "    def get_data_ingestion_config(self) -> DataIngestionConfig:\n",
    "        config = self.config.dataset\n",
    "\n",
    "        create_directories([config.root_dir])\n",
    "\n",
    "        data_ingestion_config = DataIngestionConfig(\n",
    "            root_dir=config.root_dir,\n",
    "            source_URL=config.source_URL,\n",
    "            local_data_file=config.local_data_file,\n",
    "            unzip_dir=config.unzip_dir ,\n",
    "            s3_bucket=config.s3_bucket,\n",
    "            s3_dataset=config.s3_dataset\n",
    "        )\n",
    "        return data_ingestion_config\n",
    "    \n",
    "    def get_keys(self):\n",
    "        keys=self.keys\n",
    "        return keys"
   ]
  },
  {
   "cell_type": "code",
   "execution_count": 37,
   "metadata": {},
   "outputs": [],
   "source": [
    "import os\n",
    "import urllib.request as request\n",
    "import zipfile\n",
    "from src.code.logging import LogTool\n",
    "from src.code.utils.common import get_size\n",
    "import boto3\n",
    "from botocore.exceptions import NoCredentialsError"
   ]
  },
  {
   "cell_type": "code",
   "execution_count": 38,
   "metadata": {},
   "outputs": [],
   "source": [
    "class DataIngestion:\n",
    "    def __init__(self, config, keys):\n",
    "        self.config = config\n",
    "        self.keys = keys\n",
    "\n",
    "    def download_file_from_s3(self):\n",
    "        if not os.path.exists(self.config.local_data_file):\n",
    "            self._download_file_from_s3()\n",
    "        else:\n",
    "            LogTool.info(f\"File already exists of size: {get_size(Path(self.config.local_data_file))}\")\n",
    "\n",
    "    def _download_file_from_s3(self):\n",
    "        try:\n",
    "            s3 = boto3.client(\n",
    "                's3',\n",
    "                aws_access_key_id=self.keys.aws_access_key_id,\n",
    "                aws_secret_access_key=self.keys.aws_secret_access_key\n",
    "            )\n",
    "\n",
    "            s3.download_file(self.config.s3_bucket, self.config.s3_dataset, self.config.local_data_file)\n",
    "\n",
    "            LogTool.info(f\"{self.config.local_data_file} downloaded from S3!\")\n",
    "\n",
    "        except NoCredentialsError:\n",
    "            LogTool.error(\"Credentials not available. Unable to download file from S3.\")\n",
    "\n",
    "    def extract_zip_file(self):\n",
    "        unzip_path = self.config.unzip_dir\n",
    "        os.makedirs(unzip_path, exist_ok=True)\n",
    "        with zipfile.ZipFile(self.config.local_data_file, 'r') as zip_ref:\n",
    "            zip_ref.extractall(unzip_path)\n"
   ]
  },
  {
   "cell_type": "code",
   "execution_count": 40,
   "metadata": {},
   "outputs": [
    {
     "name": "stdout",
     "output_type": "stream",
     "text": [
      "[2024-01-10 18:19:13,361: INFO: common] yaml file: configs/config.yaml loaded successfully\n",
      "[2024-01-10 18:19:13,363: INFO: common] yaml file: param.yaml loaded successfully\n",
      "[2024-01-10 18:19:13,364: INFO: common] yaml file: configs/aws_keys.yaml loaded successfully\n",
      "[2024-01-10 18:19:13,364: INFO: common] created directory at: artifacts\n",
      "[2024-01-10 18:19:13,365: INFO: common] created directory at: artifacts/dataset\n",
      "[2024-01-10 18:20:18,705: INFO: 2198715394] artifacts/dataset/dataset.zip downloaded from S3!\n"
     ]
    }
   ],
   "source": [
    "try:\n",
    "    config = ConfigurationManager()\n",
    "    data_ingestion_config = config.get_data_ingestion_config()\n",
    "    aws_keys=config.get_keys()\n",
    "    data_ingestion = DataIngestion(config=data_ingestion_config,keys=aws_keys)\n",
    "    data_ingestion.download_file_from_s3()\n",
    "    data_ingestion.extract_zip_file()\n",
    "except Exception as e:\n",
    "    raise e"
   ]
  },
  {
   "cell_type": "code",
   "execution_count": null,
   "metadata": {},
   "outputs": [],
   "source": []
  }
 ],
 "metadata": {
  "kernelspec": {
   "display_name": "quickgist",
   "language": "python",
   "name": "python3"
  },
  "language_info": {
   "codemirror_mode": {
    "name": "ipython",
    "version": 3
   },
   "file_extension": ".py",
   "mimetype": "text/x-python",
   "name": "python",
   "nbconvert_exporter": "python",
   "pygments_lexer": "ipython3",
   "version": "3.8.18"
  },
  "orig_nbformat": 4
 },
 "nbformat": 4,
 "nbformat_minor": 2
}
