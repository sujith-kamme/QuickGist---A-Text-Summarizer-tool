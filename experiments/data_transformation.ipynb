{
 "cells": [
  {
   "cell_type": "code",
   "execution_count": 1,
   "metadata": {},
   "outputs": [],
   "source": [
    "import os"
   ]
  },
  {
   "cell_type": "code",
   "execution_count": 3,
   "metadata": {},
   "outputs": [],
   "source": [
    "os.chdir(\"../\")"
   ]
  },
  {
   "cell_type": "code",
   "execution_count": 5,
   "metadata": {},
   "outputs": [],
   "source": [
    "from dataclasses import dataclass\n",
    "from pathlib import Path\n",
    "\n",
    "\n",
    "@dataclass(frozen=True)\n",
    "class DataTransformationConfig:\n",
    "    root_dir: Path\n",
    "    data_path: Path\n",
    "    tokenizer_name: Path"
   ]
  },
  {
   "cell_type": "code",
   "execution_count": 6,
   "metadata": {},
   "outputs": [],
   "source": [
    "from src.code.constants import *\n",
    "from src.code.utils.common import read_yaml, create_directories\n"
   ]
  },
  {
   "cell_type": "code",
   "execution_count": 7,
   "metadata": {},
   "outputs": [],
   "source": [
    "class ConfigurationManager:\n",
    "    def __init__(\n",
    "        self,\n",
    "        config_filepath = CONFIG_FILE_PATH,\n",
    "        params_filepath = PARAMS_FILE_PATH):\n",
    "\n",
    "        self.config = read_yaml(config_filepath)\n",
    "        self.params = read_yaml(params_filepath)\n",
    "\n",
    "        create_directories([self.config.artifacts_root])\n",
    "\n",
    "\n",
    "    def get_data_transformation_config(self) -> DataTransformationConfig:\n",
    "        config = self.config.data_transformation\n",
    "\n",
    "        create_directories([config.root_dir])\n",
    "\n",
    "        data_transformation_config = DataTransformationConfig(\n",
    "            root_dir=config.root_dir,\n",
    "            data_path=config.data_path,\n",
    "            tokenizer_name = config.tokenizer_name\n",
    "        )\n",
    "\n",
    "        return data_transformation_config"
   ]
  },
  {
   "cell_type": "code",
   "execution_count": 8,
   "metadata": {},
   "outputs": [
    {
     "name": "stderr",
     "output_type": "stream",
     "text": [
      "/Users/sujith/anaconda3/envs/quickgist/lib/python3.8/site-packages/tqdm/auto.py:21: TqdmWarning: IProgress not found. Please update jupyter and ipywidgets. See https://ipywidgets.readthedocs.io/en/stable/user_install.html\n",
      "  from .autonotebook import tqdm as notebook_tqdm\n"
     ]
    },
    {
     "name": "stdout",
     "output_type": "stream",
     "text": [
      "[2024-01-11 00:18:08,117: INFO: config] PyTorch version 2.1.2 available.\n"
     ]
    }
   ],
   "source": [
    "from src.code.logging import LogTool\n",
    "from transformers import AutoTokenizer\n",
    "from datasets import load_dataset, load_from_disk"
   ]
  },
  {
   "cell_type": "code",
   "execution_count": 13,
   "metadata": {},
   "outputs": [],
   "source": [
    "class DataTransformation:\n",
    "    def __init__(self, config: DataTransformationConfig):\n",
    "        self.config = config\n",
    "        self.tokenizer = AutoTokenizer.from_pretrained(config.tokenizer_name)\n",
    "        \n",
    "    \n",
    "    def convert_examples_to_features(self,example_batch):\n",
    "        input_encodings = self.tokenizer(example_batch['article'] , max_length = 1024, truncation = True)\n",
    "        \n",
    "        with self.tokenizer.as_target_tokenizer():\n",
    "            target_encodings = self.tokenizer(example_batch['highlights'], max_length = 128, truncation = True)\n",
    "            \n",
    "        return {\n",
    "            'input_ids' : input_encodings['input_ids'],\n",
    "            'attention_mask': input_encodings['attention_mask'],\n",
    "            'labels': target_encodings['input_ids']\n",
    "        }\n",
    "    \n",
    "    def transform(self):\n",
    "        try:\n",
    "            dataset = load_dataset(\"csv\", data_files={'train': f\"{self.config.data_path}/train.csv\",\n",
    "                                                        'test': f\"{self.config.data_path}/test.csv\",\n",
    "                                                        'validation': f\"{self.config.data_path}/validation.csv\"})\n",
    "            \n",
    "            if len(dataset['train']) == 0:\n",
    "                raise ValueError(\"Empty dataset.\")\n",
    "            \n",
    "            dataset_pt = dataset.map(self.convert_examples_to_features, batched=True)\n",
    "            dataset_pt.save_to_disk(os.path.join(self.config.root_dir, \"dataset\"))\n",
    "        except Exception as e:\n",
    "            raise ValueError(f\"Error during transformation: {e}\")"
   ]
  },
  {
   "cell_type": "code",
   "execution_count": 14,
   "metadata": {},
   "outputs": [
    {
     "name": "stdout",
     "output_type": "stream",
     "text": [
      "[2024-01-11 00:29:02,487: INFO: common] yaml file: configs/config.yaml loaded successfully\n",
      "[2024-01-11 00:29:02,489: INFO: common] yaml file: param.yaml loaded successfully\n",
      "[2024-01-11 00:29:02,489: INFO: common] created directory at: artifacts\n",
      "[2024-01-11 00:29:02,490: INFO: common] created directory at: artifacts/data_transformation\n"
     ]
    },
    {
     "name": "stderr",
     "output_type": "stream",
     "text": [
      "Generating train split: 287113 examples [00:10, 27555.76 examples/s]\n",
      "Generating test split: 11490 examples [00:00, 26519.20 examples/s]\n",
      "Generating validation split: 13368 examples [00:00, 25730.65 examples/s]\n",
      "Map:   0%|          | 0/287113 [00:00<?, ? examples/s]/Users/sujith/anaconda3/envs/quickgist/lib/python3.8/site-packages/transformers/tokenization_utils_base.py:3860: UserWarning: `as_target_tokenizer` is deprecated and will be removed in v5 of Transformers. You can tokenize your labels by using the argument `text_target` of the regular `__call__` method (either in the same call as your input texts if you use the same keyword arguments, or in a separate call.\n",
      "  warnings.warn(\n",
      "Map: 100%|██████████| 287113/287113 [03:32<00:00, 1354.11 examples/s]\n",
      "Map: 100%|██████████| 11490/11490 [00:07<00:00, 1438.00 examples/s]\n",
      "Map: 100%|██████████| 13368/13368 [00:09<00:00, 1464.43 examples/s]\n",
      "Saving the dataset (5/5 shards): 100%|██████████| 287113/287113 [00:05<00:00, 51748.21 examples/s]\n",
      "Saving the dataset (1/1 shards): 100%|██████████| 11490/11490 [00:00<00:00, 57004.75 examples/s]\n",
      "Saving the dataset (1/1 shards): 100%|██████████| 13368/13368 [00:00<00:00, 62167.12 examples/s]\n"
     ]
    }
   ],
   "source": [
    "try:\n",
    "    config = ConfigurationManager()\n",
    "    data_transformation_config = config.get_data_transformation_config()\n",
    "    data_transformation = DataTransformation(config=data_transformation_config)\n",
    "    data_transformation.transform()\n",
    "except Exception as e:\n",
    "    raise e"
   ]
  },
  {
   "cell_type": "code",
   "execution_count": null,
   "metadata": {},
   "outputs": [],
   "source": []
  }
 ],
 "metadata": {
  "kernelspec": {
   "display_name": "quickgist",
   "language": "python",
   "name": "python3"
  },
  "language_info": {
   "codemirror_mode": {
    "name": "ipython",
    "version": 3
   },
   "file_extension": ".py",
   "mimetype": "text/x-python",
   "name": "python",
   "nbconvert_exporter": "python",
   "pygments_lexer": "ipython3",
   "version": "3.8.18"
  },
  "orig_nbformat": 4
 },
 "nbformat": 4,
 "nbformat_minor": 2
}
